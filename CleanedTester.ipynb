{
 "cells": [
  {
   "cell_type": "markdown",
   "metadata": {
    "vscode": {
     "languageId": "markdown"
    }
   },
   "source": [
    "# Arbitrage Order Generation Notebook\n",
    "\n",
    "This notebook makes orders. The find_arbitrage method is where logic is being stored."
   ]
  },
  {
   "cell_type": "code",
   "execution_count": null,
   "metadata": {},
   "outputs": [],
   "source": [
    "import pandas as pd\n",
    "import matplotlib.pyplot as plt\n",
    "from datetime import datetime"
   ]
  },
  {
   "cell_type": "code",
   "execution_count": null,
   "metadata": {},
   "outputs": [],
   "source": [
    "options : pd.DataFrame = pd.read_csv(\"data/cleaned_options_data.csv\")\n",
    "options[\"day\"] = options[\"ts_recv\"].apply(lambda x: x.split(\"T\")[0])"
   ]
  },
  {
   "cell_type": "code",
   "execution_count": null,
   "metadata": {},
   "outputs": [],
   "source": [
    "start_date : datetime = datetime(2024, 1, 1)\n",
    "end_date : datetime = datetime(2024, 3, 30)"
   ]
  },
  {
   "cell_type": "code",
   "execution_count": null,
   "metadata": {},
   "outputs": [],
   "source": [
    "current_date = start_date\n",
    "arbitrage_cutoff = 0.75 # cents\n",
    "orders = []\n",
    "\n",
    "options : pd.DataFrame = pd.read_csv(\"data/cleaned_options_data.csv\")\n",
    "options[\"day\"] = options[\"ts_recv\"].apply(lambda x: x.split(\"T\")[0])\n",
    "options['day'] = options.loc[:, 'day'].apply(lambda x: datetime.strptime(x, \"%Y-%m-%d\"))\n",
    "\n",
    "def find_arbitrage(instrument_data: pd.DataFrame):\n",
    "    global orders\n",
    "    instrument_data = instrument_data.sort_values(['bid_px_00'])\n",
    "    best_bid = instrument_data[['bid_px_00', 'bid_sz_00', 'symbol', 'ts_recv']].reset_index(drop=True)\n",
    "    instrument_data = instrument_data.sort_values(['ask_px_00'], ascending=False)\n",
    "    best_ask = instrument_data[['ask_px_00', 'ask_sz_00', 'symbol', 'ts_recv']].reset_index(drop=True)\n",
    "    \n",
    "    # concaenate the two dfs horizontally\n",
    "    concatenated_df = pd.concat([best_bid, best_ask], axis=1)\n",
    "    bid_pointer = 0\n",
    "    ask_pointer = len(concatenated_df) - 1\n",
    "    \n",
    "    # display(concatenated_df)\n",
    "    \n",
    "    while bid_pointer < len(concatenated_df) and ask_pointer >= 0:\n",
    "        if concatenated_df.at[bid_pointer, 'bid_px_00'] < concatenated_df.at[ask_pointer, 'ask_px_00'] + arbitrage_cutoff:\n",
    "            bid_pointer += 1\n",
    "        else:\n",
    "            bid_size = concatenated_df.at[bid_pointer, 'bid_sz_00']\n",
    "            ask_size = concatenated_df.at[ask_pointer, 'ask_sz_00']\n",
    "            order_size = min(bid_size, ask_size)\n",
    "            curr_bid, curr_ask = bid_pointer, ask_pointer\n",
    "            bid_time, ask_time = best_bid.at[curr_bid, 'ts_recv'], best_ask.at[curr_ask, 'ts_recv']\n",
    "            \n",
    "            if ask_time > bid_time:\n",
    "                bid_pointer += 1\n",
    "                continue\n",
    "            \n",
    "            \n",
    "            if bid_size > ask_size:\n",
    "                concatenated_df.at[bid_pointer, 'bid_sz_00'] -= order_size\n",
    "                ask_pointer -= 1\n",
    "            elif bid_size < ask_size:\n",
    "                concatenated_df.at[ask_pointer, 'ask_sz_00'] -= order_size\n",
    "                bid_pointer += 1\n",
    "            else:\n",
    "                concatenated_df.at[bid_pointer, 'bid_sz_00'] -= order_size\n",
    "                concatenated_df.at[ask_pointer, 'ask_sz_00'] -= order_size\n",
    "                bid_pointer += 1\n",
    "                ask_pointer -= 1\n",
    "                        \n",
    "            if order_size > 0:\n",
    "                order_size = min(order_size, 50)\n",
    "                orders.append({\n",
    "                    \"datetime\" : best_bid.at[curr_bid, 'ts_recv'],\n",
    "                    \"option_symbol\" : best_bid.at[curr_bid, 'symbol'],\n",
    "                    \"action\" : \"S\",\n",
    "                    \"order_size\" : order_size\n",
    "                })\n",
    "                orders.append({\n",
    "                    \"datetime\" : best_ask.at[curr_ask, 'ts_recv'],\n",
    "                    \"option_symbol\" : best_ask.at[curr_ask, 'symbol'],\n",
    "                    \"action\" : \"B\",\n",
    "                    \"order_size\" : order_size\n",
    "                })\n",
    "                break\n",
    "                \n",
    "                \n",
    "    return None\n",
    "\n",
    "while current_date <= end_date:\n",
    "    current_data = options.loc[options['day'] == current_date, :]\n",
    "    print(current_date, current_data.shape[0])\n",
    "    if current_data.shape[0] == 0:\n",
    "        current_date = current_date + pd.DateOffset(days=1)\n",
    "        continue\n",
    "    \n",
    "    \n",
    "    current_data = current_data.sort_values(['instrument_id', 'bid_px_00'])\n",
    "    instrument_ids = current_data['instrument_id'].unique()\n",
    "    \n",
    "    for instrument_id in instrument_ids:\n",
    "        instrument_data = current_data.loc[current_data['instrument_id'] == instrument_id, :]\n",
    "\n",
    "        find_arbitrage(instrument_data) # global appends ot orders\n",
    "    \n",
    "    current_date = current_date + pd.DateOffset(days=1)"
   ]
  }
 ],
 "metadata": {
  "kernelspec": {
   "display_name": "CQC24",
   "language": "python",
   "name": "python3"
  },
  "language_info": {
   "codemirror_mode": {
    "name": "ipython",
    "version": 3
   },
   "file_extension": ".py",
   "mimetype": "text/x-python",
   "name": "python",
   "nbconvert_exporter": "python",
   "pygments_lexer": "ipython3",
   "version": "3.12.2"
  }
 },
 "nbformat": 4,
 "nbformat_minor": 2
}
